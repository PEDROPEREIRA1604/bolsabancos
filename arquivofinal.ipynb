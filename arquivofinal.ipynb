{
 "cells": [
  {
   "cell_type": "code",
   "execution_count": 356,
   "metadata": {},
   "outputs": [],
   "source": [
    "import matplotlib.pyplot as plt \n",
    "import numpy as np\n",
    "import pandas as pd\n",
    "from sklearn.ensemble import RandomForestClassifier\n",
    "from sklearn.metrics import roc_auc_score, roc_curve, classification_report,\\\n",
    "                            accuracy_score, confusion_matrix, auc\n",
    "from sklearn import linear_model as lm\n",
    "from sklearn.linear_model import LinearRegression\n",
    "import statsmodels.api as sm\n",
    "from sklearn import datasets,linear_model\n",
    "from sklearn.metrics import r2_score,mean_squared_error\n"
   ]
  },
  {
   "cell_type": "code",
   "execution_count": null,
   "metadata": {},
   "outputs": [],
   "source": [
    "C2014=pd.read_csv(\"Cotações 2014.csv\",encoding=\"latin1\",sep=\";\")\n",
    "C2015=pd.read_csv(\"Cotações 2015.csv\",encoding=\"latin1\",sep=\";\")\n",
    "C2016=pd.read_csv(\"Cotações 2016.csv\",encoding=\"latin1\",sep=\";\")\n",
    "C2017=pd.read_csv(\"Cotações 2017.csv\",encoding=\"latin1\",sep=\";\")\n",
    "C2018=pd.read_csv(\"Cotações 2018.csv\",encoding=\"latin1\",sep=\";\")\n",
    "C2019=pd.read_csv(\"Cotações 2019.csv\",encoding=\"latin1\",sep=\";\")\n",
    "C2020=pd.read_csv(\"Cotações 2020.csv\",encoding=\"latin1\",sep=\";\")"
   ]
  },
  {
   "cell_type": "code",
   "execution_count": 358,
   "metadata": {},
   "outputs": [],
   "source": [
    "BASE=pd.concat([C2014,C2015,C2016,C2017,C2018,C2019,C2020])"
   ]
  },
  {
   "cell_type": "code",
   "execution_count": null,
   "metadata": {},
   "outputs": [],
   "source": [
    "BASE=BASE.drop(columns=['PREÇO MÍNIMO','PREÇO DE ABERTURA','PREÇO MÁXIMO',\"PREÇO DA MELHOR OFERTA DE VENDA\",'PREÇO DA MELHOR OFERTA DE COMPRA','NÚMERO DE DISTRIBUIÇÃO DO PAPEL',\"PREÇO MÉDIO\",'TIPO DE REGISTRO','CÓDIGO BDI','TPMERC','NOMRES','ESPECIFICAÇÃO DO PAPEL','PRAZOT','MOEDA','NÚMERO DE NEGÓCIOS EFETUADOS COM O PAPEL-','QUANTIDADE TOTAL DE TÍTULOS NEGOCIADOS NESTE PAPEL','PREÇO DE EXERCÍCIO PARA O MERCADO DE OPÇÕES','CÓDIGO DO PAPEL NO SISTEMA ISIN','PREÇO DE EXERCÍCIO EM PONTOS PARA OPÇÕES REFERENCIADAS','INDICADOR DE CORREÇÃO DE PREÇOS','CÓDIGO DO PAPEL NO SISTEMA ISIN',\"VOLUME TOTAL DE TÍTULOS NEGOCIADOS NESTE PAPEL\",'FATOR DE COTAÇÃO DO PAPEL','DATA DO VENCIMENTO PARA OS MERCADOS DE OPÇÕES'])"
   ]
  },
  {
   "cell_type": "code",
   "execution_count": 361,
   "metadata": {},
   "outputs": [],
   "source": [
    "FiltroBB=BASE[\"CODNEG\"]==\"BBAS3\"\n",
    "FiltroITAÚ=BASE[\"CODNEG\"]==\"ITUB4\"\n",
    "FiltroBRADESCO=BASE[\"CODNEG\"]==\"BBDC4\"\n",
    "FiltroSANTANDER=BASE[\"CODNEG\"]==\"SANB11\"\n"
   ]
  },
  {
   "cell_type": "code",
   "execution_count": 362,
   "metadata": {},
   "outputs": [],
   "source": [
    "BB=BASE[FiltroBB]\n",
    "BRADESCO=BASE[FiltroBRADESCO]\n",
    "ITAU=BASE[FiltroITAÚ]\n",
    "SANTANDER=BASE[FiltroSANTANDER]"
   ]
  },
  {
   "cell_type": "code",
   "execution_count": null,
   "metadata": {},
   "outputs": [],
   "source": [
    "BRADESCO[\"DATA DO PREGÃO\"]=pd.to_datetime(BRADESCO[\"DATA DO PREGÃO\"],format=\"%d/%m/%Y\")\n",
    "BB[\"DATA DO PREGÃO\"]=pd.to_datetime(BB[\"DATA DO PREGÃO\"],format=\"%d/%m/%Y\")\n",
    "SANTANDER[\"DATA DO PREGÃO\"]=pd.to_datetime(SANTANDER[\"DATA DO PREGÃO\"],format=\"%d/%m/%Y\")\n",
    "ITAU[\"DATA DO PREGÃO\"]=pd.to_datetime(ITAU[\"DATA DO PREGÃO\"],format=\"%d/%m/%Y\")"
   ]
  },
  {
   "cell_type": "code",
   "execution_count": 366,
   "metadata": {},
   "outputs": [],
   "source": [
    "BRADESCO.set_index(\"DATA DO PREGÃO\",inplace=True)\n",
    "BB.set_index(\"DATA DO PREGÃO\",inplace=True)\n",
    "ITAU.set_index(\"DATA DO PREGÃO\",inplace=True)\n",
    "SANTANDER.set_index(\"DATA DO PREGÃO\",inplace=True)"
   ]
  },
  {
   "cell_type": "code",
   "execution_count": null,
   "metadata": {},
   "outputs": [],
   "source": [
    "plt.figure(figsize=(15,6))\n",
    "plt.plot(BB[\"PREÇO DO ÚLTIMO NEGÓCIO\"],color='yellow')\n",
    "plt.plot(BRADESCO[\"PREÇO DO ÚLTIMO NEGÓCIO\"],color='red')\n",
    "plt.plot(ITAU[\"PREÇO DO ÚLTIMO NEGÓCIO\"],color='blue')\n",
    "plt.plot(SANTANDER[\"PREÇO DO ÚLTIMO NEGÓCIO\"],color='black')\n",
    "plt.legend(['BB', 'BRADESCO', 'ITAU',\"SANTANDER\"], loc=9)"
   ]
  },
  {
   "cell_type": "code",
   "execution_count": null,
   "metadata": {},
   "outputs": [],
   "source": [
    "BB[\"PREÇO FECHAMENTO DO DIA ANTERIOR\"]=BB[\"PREÇO DO ÚLTIMO NEGÓCIO\"].shift(+1)\n",
    "\n",
    "BRADESCO[\"PREÇO FECHAMENTO DO DIA ANTERIOR\"]=BRADESCO[\"PREÇO DO ÚLTIMO NEGÓCIO\"].shift(+1)\n",
    "\n",
    "SANTANDER[\"PREÇO FECHAMENTO DO DIA ANTERIOR\"]=SANTANDER[\"PREÇO DO ÚLTIMO NEGÓCIO\"].shift(+1)\n",
    "\n",
    "ITAU[\"PREÇO FECHAMENTO DO DIA ANTERIOR\"]=ITAU[\"PREÇO DO ÚLTIMO NEGÓCIO\"].shift(+1)"
   ]
  },
  {
   "cell_type": "code",
   "execution_count": null,
   "metadata": {},
   "outputs": [],
   "source": [
    "BBTREINO=BB[:1300]\n",
    "BBTESTE=BB[1300:]\n",
    "BRADESCOTREINO=BRADESCO[:1300]\n",
    "BRADESCOTESTE=BRADESCO[1300:]\n",
    "ITAUTREINO=ITAU[:1300]\n",
    "ITAUTESTE=ITAU[1300:]\n",
    "SANTANDERTREINO=SANTANDER[:1300]\n",
    "SANTANDERTESTE=SANTANDER[1300:]"
   ]
  },
  {
   "cell_type": "code",
   "execution_count": null,
   "metadata": {},
   "outputs": [],
   "source": [
    "from sklearn.linear_model import LinearRegression\n",
    "BRADESCOTREINO=BRADESCOTREINO.dropna()\n",
    "BRADESCOdependente=BRADESCOTREINO[\"PREÇO DO ÚLTIMO NEGÓCIO\"]\n",
    "BRADESCOvariável = pd.DataFrame(data={\"PREÇO\":BRADESCOTREINO[\"PREÇO FECHAMENTO DO DIA ANTERIOR\"]})\n",
    "BRADESCOTESTEvariável = pd.DataFrame(data={\"PREÇO\":BRADESCOTESTE[\"PREÇO FECHAMENTO DO DIA ANTERIOR\"]})\n",
    "lr=linear_model.LinearRegression()\n",
    "lr.fit(BRADESCOvariável,BRADESCOdependente)\n",
    "PrevBRADESCOTREINO=lr.predict(BRADESCOvariável)\n",
    "PrevBRADESCOTESTE=lr.predict(BRADESCOTESTEvariável)\n",
    "ERROTREINOBRADESCO=((BRADESCOTREINO[\"PREÇO DO ÚLTIMO NEGÓCIO\"]-PrevBRADESCOTREINO)**2).mean()\n",
    "ERROTESTEBRADESCO=((BRADESCOTESTE[\"PREÇO DO ÚLTIMO NEGÓCIO\"]-PrevBRADESCOTESTE)**2).mean()\n",
    "print(\"O erro no treino foi {} e no teste foi {}\".format(ERROTREINOBRADESCO, ERROTESTEBRADESCO))"
   ]
  },
  {
   "cell_type": "code",
   "execution_count": null,
   "metadata": {},
   "outputs": [],
   "source": [
    "model = sm.OLS(BRADESCOdependente, BRADESCOvariável).fit()\n",
    "print_model = model.summary()\n",
    "print(print_model)"
   ]
  },
  {
   "cell_type": "code",
   "execution_count": null,
   "metadata": {},
   "outputs": [],
   "source": [
    "from statsmodels.graphics.tsaplots import plot_acf, plot_pacf\n",
    "plot_acf(BRADESCOTREINO[\"PREÇO DO ÚLTIMO NEGÓCIO\"])\n",
    "plt.show()"
   ]
  },
  {
   "cell_type": "code",
   "execution_count": null,
   "metadata": {},
   "outputs": [],
   "source": [
    "plot_pacf(BRADESCOTREINO[\"PREÇO DO ÚLTIMO NEGÓCIO\"])\n",
    "plt.show()"
   ]
  },
  {
   "cell_type": "code",
   "execution_count": null,
   "metadata": {},
   "outputs": [],
   "source": [
    "BRADESCODIFERENCIAÇÃO=np.diff(BRADESCOTREINO[\"PREÇO DO ÚLTIMO NEGÓCIO\"],n=1)"
   ]
  },
  {
   "cell_type": "code",
   "execution_count": null,
   "metadata": {},
   "outputs": [],
   "source": [
    "plot_acf(BRADESCODIFERENCIAÇÃO)\n",
    "plt.show()"
   ]
  },
  {
   "cell_type": "code",
   "execution_count": null,
   "metadata": {},
   "outputs": [],
   "source": [
    "plot_pacf(BRADESCODIFERENCIAÇÃO)\n",
    "plt.show()"
   ]
  },
  {
   "cell_type": "code",
   "execution_count": null,
   "metadata": {},
   "outputs": [],
   "source": [
    "from statsmodels.tsa.arima_model import ARIMA\n",
    "possibilidades=[(3,1,1),(3,2,1),(4,1,1),(4,2,1),(5,1,1),(5,2,1),(6,1,1),(6,2,1),(7,1,1),(7,2,1),(8,1,1),(8,2,1)]\n",
    "parametrosBRADESCO=list()\n",
    "ERROBRADESCOTESTELISTA=list()\n",
    "ERROBRADESCOTREINOLISTA=list()\n",
    "for t in possibilidades:\n",
    "    arimaBRADESCO=ARIMA(BRADESCOTREINO[\"PREÇO DO ÚLTIMO NEGÓCIO\"],order=(t)).fit()\n",
    "    arimaBRADESCOteste=ARIMA(BRADESCOTESTE[\"PREÇO DO ÚLTIMO NEGÓCIO\"],order=(t)).fit(arimaBRADESCO.params)\n",
    "    ERROBRADESCOTREINO=(arimaBRADESCO.resid**2).mean()\n",
    "    ERROBRADESCOTESTE=(arimaBRADESCOteste.resid**2).mean()\n",
    "    parametrosBRADESCO.append(t)\n",
    "    ERROBRADESCOTESTELISTA.append(ERROBRADESCOTESTE)\n",
    "    ERROBRADESCOTREINOLISTA.append(ERROBRADESCOTREINO)\n",
    "TABELADEDECISÃOBRADESCO=pd.DataFrame(data={\"Parâmetros\":parametrosBRADESCO,\"ERROTESTE\":ERROBRADESCOTESTELISTA,\n",
    "                                           \"ERROTREINO\":ERROBRADESCOTREINOLISTA})"
   ]
  },
  {
   "cell_type": "code",
   "execution_count": null,
   "metadata": {},
   "outputs": [],
   "source": [
    "TABELADEDECISÃOBRADESCO"
   ]
  },
  {
   "cell_type": "code",
   "execution_count": null,
   "metadata": {},
   "outputs": [],
   "source": [
    "ESCOLHIDOBRADESCO=ARIMA(BRADESCOTESTE[\"PREÇO DO ÚLTIMO NEGÓCIO\"],order=(8,1,1)).fit()"
   ]
  },
  {
   "cell_type": "code",
   "execution_count": 105,
   "metadata": {},
   "outputs": [],
   "source": [
    "predictBRADESCO=ESCOLHIDOBRADESCO.predict(typ=\"levels\")"
   ]
  },
  {
   "cell_type": "code",
   "execution_count": null,
   "metadata": {},
   "outputs": [],
   "source": [
    "predictBRADESCO=arimaBRADESCOteste.predict(typ=\"levels\")\n",
    "GRÁFICOBRADESCO = pd.DataFrame(data={\"ESPERADO\":BRADESCOTESTE[\"PREÇO DO ÚLTIMO NEGÓCIO\"],\"ESTIMADO\":predictBRADESCO})\n",
    "GRÁFICOBRADESCO[100:200].plot() "
   ]
  },
  {
   "cell_type": "code",
   "execution_count": null,
   "metadata": {},
   "outputs": [],
   "source": [
    "from sklearn.tree import DecisionTreeRegressor\n",
    "for i in range(1,10):\n",
    "    reg=DecisionTreeRegressor(max_depth=i)\n",
    "    reg.fit(BRADESCOvariável,BRADESCOdependente)\n",
    "    ERROTREINOBRADESCOÁRVORE=((BRADESCOTREINO[\"PREÇO DO ÚLTIMO NEGÓCIO\"]-reg.predict(BRADESCOvariável))**2).mean()\n",
    "    ERROTESTEBRADESCOÁRVORE=((BRADESCOTESTE[\"PREÇO DO ÚLTIMO NEGÓCIO\"]-reg.predict(BRADESCOTESTEvariável))**2).mean()\n",
    "    print(\"O erro no treino com {} decisões foi {} e no teste foi {}\".format(i,ERROTREINOBRADESCOÁRVORE, ERROTESTEBRADESCOÁRVORE))"
   ]
  },
  {
   "cell_type": "code",
   "execution_count": null,
   "metadata": {},
   "outputs": [],
   "source": [
    "BBTREINO=BBTREINO.dropna()\n",
    "BBdependente=BBTREINO[\"PREÇO DO ÚLTIMO NEGÓCIO\"]\n",
    "BBvariável = pd.DataFrame(data={\"PREÇO\":BBTREINO[\"PREÇO FECHAMENTO DO DIA ANTERIOR\"]})\n",
    "BBTESTEvariável = pd.DataFrame(data={\"PREÇO\":BBTESTE[\"PREÇO FECHAMENTO DO DIA ANTERIOR\"]})\n",
    "lr=linear_model.LinearRegression()\n",
    "lr.fit(BBvariável,BBdependente)\n",
    "PrevBBTREINO=lr.predict(BBvariável)\n",
    "PrevBBTESTE=lr.predict(BBTESTEvariável)\n",
    "ERROTREINOBB=((BBTREINO[\"PREÇO DO ÚLTIMO NEGÓCIO\"]-PrevBBTREINO)**2).mean()\n",
    "ERROTESTEBB=((BBTESTE[\"PREÇO DO ÚLTIMO NEGÓCIO\"]-PrevBBTESTE)**2).mean()\n",
    "print(\"O erro no treino foi {} e no teste foi {}\".format(ERROTREINOBB, ERROTESTEBB))"
   ]
  },
  {
   "cell_type": "code",
   "execution_count": null,
   "metadata": {},
   "outputs": [],
   "source": [
    "model = sm.OLS(BBdependente, BBvariável).fit()\n",
    "print_model = model.summary()\n",
    "print(print_model)"
   ]
  },
  {
   "cell_type": "code",
   "execution_count": null,
   "metadata": {},
   "outputs": [],
   "source": [
    "plot_acf(BBTREINO[\"PREÇO DO ÚLTIMO NEGÓCIO\"])\n",
    "plt.show()"
   ]
  },
  {
   "cell_type": "code",
   "execution_count": null,
   "metadata": {},
   "outputs": [],
   "source": [
    "plot_pacf(BBTREINO[\"PREÇO DO ÚLTIMO NEGÓCIO\"])\n",
    "plt.show()"
   ]
  },
  {
   "cell_type": "code",
   "execution_count": null,
   "metadata": {},
   "outputs": [],
   "source": [
    "BBDIFERENCIAÇÃO=np.diff(BBTREINO[\"PREÇO DO ÚLTIMO NEGÓCIO\"],n=1)\n",
    "plot_acf(BBDIFERENCIAÇÃO)\n",
    "plt.show()"
   ]
  },
  {
   "cell_type": "code",
   "execution_count": null,
   "metadata": {},
   "outputs": [],
   "source": [
    "plot_pacf(BBDIFERENCIAÇÃO)\n",
    "plt.show()"
   ]
  },
  {
   "cell_type": "code",
   "execution_count": null,
   "metadata": {},
   "outputs": [],
   "source": [
    "possibilidades=[(3,1,1),(3,2,1),(4,1,1),(4,2,1),(5,1,1),(5,2,1),(6,1,1),(6,2,1),(7,1,1),(7,2,1),(8,1,1),(8,2,1)]\n",
    "parametrosBB=list()\n",
    "ERROBBTESTELISTA=list()\n",
    "ERROBBTREINOLISTA=list()\n",
    "for t in possibilidades:\n",
    "    arimaBB=ARIMA(BBTREINO[\"PREÇO DO ÚLTIMO NEGÓCIO\"],order=(t)).fit()\n",
    "    ERROBBTREINO=(arimaBB.resid**2).mean()\n",
    "    arimaBBteste=ARIMA(BBTESTE[\"PREÇO DO ÚLTIMO NEGÓCIO\"],order=(t)).fit(arimaBB.params)\n",
    "    ERROBBTESTE=(arimaBBteste.resid**2).mean()\n",
    "    parametrosBB.append(t)\n",
    "    ERROBBTESTELISTA.append(ERROBBTESTE)\n",
    "    ERROBBTREINOLISTA.append(ERROBBTREINO)\n",
    "TABELADEDECISÃOBB=pd.DataFrame(data={\"Parâmetros\":parametrosBB,\"ERROTESTE\":ERROBBTESTELISTA,\n",
    "                                     \"ERROTREINO\":ERROBBTREINOLISTA})"
   ]
  },
  {
   "cell_type": "code",
   "execution_count": null,
   "metadata": {},
   "outputs": [],
   "source": [
    "TABELADEDECISÃOBB"
   ]
  },
  {
   "cell_type": "code",
   "execution_count": null,
   "metadata": {},
   "outputs": [],
   "source": [
    "ESCOLHIDOBB=ARIMA(BBTESTE[\"PREÇO DO ÚLTIMO NEGÓCIO\"],order=(8,1,1)).fit()\n",
    "predictBB=ESCOLHIDOBB.predict(typ=\"levels\")\n",
    "RESÍDUOSBB=predictBB-BBTESTE[\"PREÇO DO ÚLTIMO NEGÓCIO\"]"
   ]
  },
  {
   "cell_type": "code",
   "execution_count": null,
   "metadata": {},
   "outputs": [],
   "source": [
    "predictBB=arimaBBteste.predict(typ=\"levels\")\n",
    "GRÁFICOBB = pd.DataFrame(data={\"ESPERADO\":BBTESTE[\"PREÇO DO ÚLTIMO NEGÓCIO\"],\"ESTIMADO\":predictBB})\n",
    "GRÁFICOBB[100:200].plot() "
   ]
  },
  {
   "cell_type": "code",
   "execution_count": null,
   "metadata": {},
   "outputs": [],
   "source": [
    "for i in range(1,10):\n",
    "    reg=DecisionTreeRegressor(max_depth=i)\n",
    "    reg.fit(BBvariável,BBdependente)\n",
    "    ERROTREINOBBÁRVORE=((BBTREINO[\"PREÇO DO ÚLTIMO NEGÓCIO\"]-reg.predict(BBvariável))**2).mean()\n",
    "    ERROTESTEBBÁRVORE=((BBTESTE[\"PREÇO DO ÚLTIMO NEGÓCIO\"]-reg.predict(BBTESTEvariável))**2).mean()\n",
    "    print(\"O erro no treino com {} decisões foi {} e no teste foi {}\".format(i,ERROTREINOBBÁRVORE, ERROTESTEBBÁRVORE))"
   ]
  },
  {
   "cell_type": "code",
   "execution_count": null,
   "metadata": {},
   "outputs": [],
   "source": [
    "ITAUTREINO=ITAUTREINO.dropna()\n",
    "ITAUdependente=ITAUTREINO[\"PREÇO DO ÚLTIMO NEGÓCIO\"]\n",
    "ITAUvariável = pd.DataFrame(data={\"PREÇO\":ITAUTREINO[\"PREÇO FECHAMENTO DO DIA ANTERIOR\"]})\n",
    "ITAUTESTEvariável = pd.DataFrame(data={\"PREÇO\":ITAUTESTE[\"PREÇO FECHAMENTO DO DIA ANTERIOR\"]})\n",
    "lr=linear_model.LinearRegression()\n",
    "lr.fit(ITAUvariável,ITAUdependente)\n",
    "PrevITAUTREINO=lr.predict(ITAUvariável)\n",
    "PrevITAUTESTE=lr.predict(ITAUTESTEvariável)\n",
    "ERROTREINOITAU=((ITAUTREINO[\"PREÇO DO ÚLTIMO NEGÓCIO\"]-PrevITAUTREINO)**2).mean()\n",
    "ERROTESTEITAU=((ITAUTESTE[\"PREÇO DO ÚLTIMO NEGÓCIO\"]-PrevITAUTESTE)**2).mean()\n",
    "print(\"O erro no treino foi {} e no teste foi {}\".format(ERROTREINOITAU, ERROTESTEITAU))"
   ]
  },
  {
   "cell_type": "code",
   "execution_count": null,
   "metadata": {},
   "outputs": [],
   "source": [
    "model = sm.OLS(ITAUdependente, ITAUvariável).fit()\n",
    "print_model = model.summary()\n",
    "print(print_model)"
   ]
  },
  {
   "cell_type": "code",
   "execution_count": null,
   "metadata": {},
   "outputs": [],
   "source": [
    "plot_acf(ITAUTREINO[\"PREÇO DO ÚLTIMO NEGÓCIO\"])\n",
    "plt.show()"
   ]
  },
  {
   "cell_type": "code",
   "execution_count": null,
   "metadata": {},
   "outputs": [],
   "source": [
    "plot_pacf(ITAUTREINO[\"PREÇO DO ÚLTIMO NEGÓCIO\"])\n",
    "plt.show()"
   ]
  },
  {
   "cell_type": "code",
   "execution_count": null,
   "metadata": {},
   "outputs": [],
   "source": [
    "ITAUDIFERENCIAÇÃO=np.diff(ITAUTREINO[\"PREÇO DO ÚLTIMO NEGÓCIO\"],n=1)\n",
    "plot_acf(ITAUDIFERENCIAÇÃO)\n",
    "plt.show()"
   ]
  },
  {
   "cell_type": "code",
   "execution_count": null,
   "metadata": {},
   "outputs": [],
   "source": [
    "plot_pacf(ITAUDIFERENCIAÇÃO)\n",
    "plt.show()"
   ]
  },
  {
   "cell_type": "code",
   "execution_count": null,
   "metadata": {},
   "outputs": [],
   "source": [
    "possibilidades=[(3,1,1),(3,2,1),(4,1,1),(4,2,1),(5,1,1),(5,2,1),(6,1,1),(6,2,1),(7,1,1),(7,2,1),(8,1,1),(8,2,1)]\n",
    "melhor=2\n",
    "parametrosITAU=list()\n",
    "ERROITAUTESTELISTA=list()\n",
    "ERROITAUTREINOLISTA=list()\n",
    "for t in possibilidades:\n",
    "    arimaITAU=ARIMA(ITAUTREINO[\"PREÇO DO ÚLTIMO NEGÓCIO\"],order=(t)).fit()\n",
    "    ERROITAUTREINO=(arimaITAU.resid**2).mean()\n",
    "    arimaITAUteste=ARIMA(ITAUTESTE[\"PREÇO DO ÚLTIMO NEGÓCIO\"],order=(t)).fit(arimaITAU.params)\n",
    "    ERROITAUTESTE=(arimaITAUteste.resid**2).mean()\n",
    "    parametrosITAU.append(t)\n",
    "    ERROITAUTESTELISTA.append(ERROITAUTESTE)\n",
    "    ERROITAUTREINOLISTA.append(ERROITAUTREINO)\n",
    "TABELADEDECISÃOITAU=pd.DataFrame(data={\"Parâmetros\":parametrosITAU,\"ERROTESTE\":ERROITAUTESTELISTA,\n",
    "                                       \"ERROTREINO\":ERROITAUTREINOLISTA})"
   ]
  },
  {
   "cell_type": "code",
   "execution_count": null,
   "metadata": {},
   "outputs": [],
   "source": [
    "TABELADEDECISÃOITAU\n"
   ]
  },
  {
   "cell_type": "code",
   "execution_count": null,
   "metadata": {},
   "outputs": [],
   "source": [
    "ESCOLHIDOITAU=ARIMA(ITAUTESTE[\"PREÇO DO ÚLTIMO NEGÓCIO\"],order=(8,1,1)).fit()\n",
    "predictITAU=ESCOLHIDOITAU.predict(typ=\"levels\")\n",
    "RESÍDUOSITAU=predictITAU-ITAUTESTE[\"PREÇO DO ÚLTIMO NEGÓCIO\"]"
   ]
  },
  {
   "cell_type": "code",
   "execution_count": null,
   "metadata": {},
   "outputs": [],
   "source": [
    "predictITAÚ=arimaITAUteste.predict(typ=\"levels\")\n",
    "GRÁFICOITAÚ = pd.DataFrame(data={\"ESPERADO\":ITAUTESTE[\"PREÇO DO ÚLTIMO NEGÓCIO\"],\"ESTIMADO\":predictITAÚ})\n",
    "GRÁFICOITAÚ[100:200].plot() "
   ]
  },
  {
   "cell_type": "code",
   "execution_count": null,
   "metadata": {},
   "outputs": [],
   "source": [
    "for i in range(1,10):\n",
    "    reg=DecisionTreeRegressor(max_depth=i)\n",
    "    reg.fit(ITAUvariável,ITAUdependente)\n",
    "    ERROTREINOITAUÁRVORE=((ITAUTREINO[\"PREÇO DO ÚLTIMO NEGÓCIO\"]-reg.predict(ITAUvariável))**2).mean()\n",
    "    ERROTESTEITAUÁRVORE=((ITAUTESTE[\"PREÇO DO ÚLTIMO NEGÓCIO\"]-reg.predict(ITAUTESTEvariável))**2).mean()\n",
    "    print(\"O erro no treino com {} decisões foi {} e no teste foi {}\".format(i,ERROTREINOITAUÁRVORE\n",
    "                                                                             , ERROTESTEITAUÁRVORE))"
   ]
  },
  {
   "cell_type": "code",
   "execution_count": null,
   "metadata": {},
   "outputs": [],
   "source": [
    "SANTANDERTREINO=SANTANDERTREINO.dropna()\n",
    "SANTANDERdependente=SANTANDERTREINO[\"PREÇO DO ÚLTIMO NEGÓCIO\"]\n",
    "SANTANDERvariável = pd.DataFrame(data={\"PREÇO\":SANTANDERTREINO[\"PREÇO FECHAMENTO DO DIA ANTERIOR\"]})\n",
    "SANTANDERTESTEvariável = pd.DataFrame(data={\"PREÇO\":SANTANDERTESTE[\"PREÇO FECHAMENTO DO DIA ANTERIOR\"]})\n",
    "lr=linear_model.LinearRegression()\n",
    "lr.fit(SANTANDERvariável,SANTANDERdependente)\n",
    "PrevSANTANDERTREINO=lr.predict(SANTANDERvariável)\n",
    "PrevSANTANDERTESTE=lr.predict(SANTANDERTESTEvariável)\n",
    "ERROTREINOSANTANDER=((SANTANDERTREINO[\"PREÇO DO ÚLTIMO NEGÓCIO\"]-PrevSANTANDERTREINO)**2).mean()\n",
    "ERROTESTESANTANDER=((SANTANDERTESTE[\"PREÇO DO ÚLTIMO NEGÓCIO\"]-PrevSANTANDERTESTE)**2).mean()\n",
    "print(\"O erro no treino foi {} e no teste foi {}\".format(ERROTREINOSANTANDER, ERROTESTESANTANDER))"
   ]
  },
  {
   "cell_type": "code",
   "execution_count": null,
   "metadata": {},
   "outputs": [],
   "source": [
    "model = sm.OLS(SANTANDERdependente, SANTANDERvariável).fit()\n",
    "print_model = model.summary()\n",
    "print(print_model)"
   ]
  },
  {
   "cell_type": "code",
   "execution_count": null,
   "metadata": {},
   "outputs": [],
   "source": [
    "plot_acf(SANTANDERTREINO[\"PREÇO DO ÚLTIMO NEGÓCIO\"])\n",
    "plt.show()"
   ]
  },
  {
   "cell_type": "code",
   "execution_count": null,
   "metadata": {},
   "outputs": [],
   "source": [
    "plot_pacf(SANTANDERTREINO[\"PREÇO DO ÚLTIMO NEGÓCIO\"])\n",
    "plt.show()"
   ]
  },
  {
   "cell_type": "code",
   "execution_count": null,
   "metadata": {},
   "outputs": [],
   "source": [
    "SANTANDERDIFERENCIAÇÃO=np.diff(SANTANDERTREINO[\"PREÇO DO ÚLTIMO NEGÓCIO\"],n=1)\n",
    "plot_acf(SANTANDERDIFERENCIAÇÃO)\n",
    "plt.show()"
   ]
  },
  {
   "cell_type": "code",
   "execution_count": null,
   "metadata": {},
   "outputs": [],
   "source": [
    "plot_acf(SANTANDERDIFERENCIAÇÃO)\n",
    "plt.show()"
   ]
  },
  {
   "cell_type": "code",
   "execution_count": null,
   "metadata": {},
   "outputs": [],
   "source": [
    "possibilidades=[(3,1,1),(3,2,1),(4,1,1),(4,2,1),(5,1,1),(5,2,1),(6,1,1),(6,2,1),(7,1,1),(7,2,1),(8,1,1),(8,2,1)]\n",
    "melhor=2\n",
    "parametrosSANTANDER=list()\n",
    "ERROSANTANDERTESTELISTA=list()\n",
    "ERROSANTANDERTREINOLISTA=list()\n",
    "for t in possibilidades:\n",
    "    arimaSANTANDER=ARIMA(SANTANDERTREINO[\"PREÇO DO ÚLTIMO NEGÓCIO\"],order=(t)).fit()\n",
    "    ERROSANTANDERTREINO=(arimaSANTANDER.resid**2).mean()\n",
    "    arimaSANTANDERteste=ARIMA(SANTANDERTESTE[\"PREÇO DO ÚLTIMO NEGÓCIO\"],order=(t)).fit(arimaSANTANDER.params)\n",
    "    ERROSANTANDERTESTE=(arimaSANTANDERteste.resid**2).mean()\n",
    "    parametrosSANTANDER.append(t)\n",
    "    ERROSANTANDERTESTELISTA.append(ERROSANTANDERTESTE)\n",
    "    ERROSANTANDERTREINOLISTA.append(ERROSANTANDERTREINO)\n",
    "TABELADEDECISÃOSANTANDER=pd.DataFrame(data={\"Parâmetros\":parametrosSANTANDER,\n",
    "                                            \"ERROTESTE\":ERROSANTANDERTESTELISTA,\"ERROTREINO\":ERROSANTANDERTREINOLISTA})"
   ]
  },
  {
   "cell_type": "code",
   "execution_count": null,
   "metadata": {},
   "outputs": [],
   "source": [
    "TABELADEDECISÃOSANTANDER"
   ]
  },
  {
   "cell_type": "code",
   "execution_count": null,
   "metadata": {},
   "outputs": [],
   "source": [
    "ESCOLHIDOSANTANDER=ARIMA(SANTANDERTESTE[\"PREÇO DO ÚLTIMO NEGÓCIO\"],order=(8,1,1)).fit()\n",
    "predictSANTANDER=ESCOLHIDOSANTANDER.predict(typ=\"levels\")\n",
    "RESÍDUOSSANTANDER=predictSANTANDER-SANTANDERTESTE[\"PREÇO DO ÚLTIMO NEGÓCIO\"]"
   ]
  },
  {
   "cell_type": "code",
   "execution_count": null,
   "metadata": {},
   "outputs": [],
   "source": [
    "for i in range(1,10):\n",
    "    reg=DecisionTreeRegressor(max_depth=i)\n",
    "    reg.fit(SANTANDERvariável,SANTANDERdependente)\n",
    "    ERROTREINOSANTANDERÁRVORE=((SANTANDERTREINO[\"PREÇO DO ÚLTIMO NEGÓCIO\"]-reg.predict(SANTANDERvariável))**2).mean()\n",
    "    ERROTESTESANTANDERÁRVORE=((SANTANDERTESTE[\"PREÇO DO ÚLTIMO NEGÓCIO\"]-reg.predict\n",
    "                               (SANTANDERTESTEvariável))**2).mean()\n",
    "    print(\"O erro no treino com {} decisões foi {} e no teste foi {}\".format(i,ERROTREINOSANTANDERÁRVORE\n",
    "                                                                             , ERROTESTESANTANDERÁRVORE))"
   ]
  },
  {
   "cell_type": "code",
   "execution_count": 278,
   "metadata": {},
   "outputs": [],
   "source": [
    "Dólar=pd.read_csv(\"Dólar.csv\",encoding=\"latin1\",sep=\";\")"
   ]
  },
  {
   "cell_type": "code",
   "execution_count": 279,
   "metadata": {},
   "outputs": [],
   "source": [
    "Dólar=Dólar.drop(columns=[\"Unnamed: 2\",\"Unnamed: 3\",\"Unnamed: 4\",\"Unnamed: 5\"])"
   ]
  },
  {
   "cell_type": "code",
   "execution_count": 280,
   "metadata": {},
   "outputs": [],
   "source": [
    "Dólar.rename(columns={'data': 'DATA DO PREGÃO'}, inplace = True)"
   ]
  },
  {
   "cell_type": "code",
   "execution_count": 281,
   "metadata": {},
   "outputs": [],
   "source": [
    "BB2=pd.read_csv(\"BB.csv\",encoding=\"latin1\",sep=\",\")\n",
    "BB2.rename(columns={'DATA DO PREGÃO': 'DATA DO PREGÃO'}, inplace = True)"
   ]
  },
  {
   "cell_type": "code",
   "execution_count": 282,
   "metadata": {},
   "outputs": [],
   "source": [
    "BB2[\"DATA DO PREGÃO\"]=pd.to_datetime(BB2[\"DATA DO PREGÃO\"],format=\"%Y/%m/%d\")\n",
    "Dólar[\"DATA DO PREGÃO\"]=pd.to_datetime(Dólar[\"DATA DO PREGÃO\"],format=\"%d.%m.%Y\")\n"
   ]
  },
  {
   "cell_type": "code",
   "execution_count": 283,
   "metadata": {},
   "outputs": [],
   "source": [
    "BBdólar=pd.merge(Dólar,BB2, on=[\"DATA DO PREGÃO\"], how='outer')"
   ]
  },
  {
   "cell_type": "code",
   "execution_count": 285,
   "metadata": {},
   "outputs": [],
   "source": [
    "BBdólar=BBdólar.drop(columns=[\"VOLUME TOTAL DE TÃTULOS NEGOCIADOS NESTE PAPEL\",\"CODNEG\"])"
   ]
  },
  {
   "cell_type": "code",
   "execution_count": null,
   "metadata": {},
   "outputs": [],
   "source": [
    "BB3=BBdólar.dropna()\n"
   ]
  },
  {
   "cell_type": "code",
   "execution_count": 287,
   "metadata": {},
   "outputs": [],
   "source": [
    "BB3.rename(columns={'PREÃO DO ÃLTIMO NEGÃCIO': 'PREÇO DO ÚLTIMO NEGÓCIO'}, inplace = True)"
   ]
  },
  {
   "cell_type": "code",
   "execution_count": null,
   "metadata": {},
   "outputs": [],
   "source": [
    "BB3[\"Dólar anterior\"]=BB3[\"dólar\"].shift(-1)\n",
    "BB3[\"Dólar anterior 2 dias\"]=BB3[\"Dólar anterior\"].shift(-1)\n"
   ]
  },
  {
   "cell_type": "code",
   "execution_count": null,
   "metadata": {},
   "outputs": [],
   "source": [
    "BB3[\"Dólar anterior 2 dias\"] = BB3[\"Dólar anterior 2 dias\"].str.replace(',', '.')\n",
    "BB3[\"Dólar anterior\"] = BB3[\"Dólar anterior\"].str.replace(',', '.')"
   ]
  },
  {
   "cell_type": "code",
   "execution_count": null,
   "metadata": {},
   "outputs": [],
   "source": [
    "BB3[\"Dólar anterior 2 dias\"]=BB3[\"Dólar anterior 2 dias\"].astype(float)\n",
    "BB3[\"Dólar anterior\"]=BB3[\"Dólar anterior\"].astype(float)\n"
   ]
  },
  {
   "cell_type": "code",
   "execution_count": null,
   "metadata": {},
   "outputs": [],
   "source": [
    "BB3[\"Variação Dólar\"]=(BB3[\"Dólar anterior\"]-BB3[\"Dólar anterior 2 dias\"])/BB3[\"Dólar anterior 2 dias\"]\n",
    "BB3[\"%Variação Dólar\"]=BB3[\"Variação Dólar\"]*100"
   ]
  },
  {
   "cell_type": "code",
   "execution_count": 295,
   "metadata": {},
   "outputs": [],
   "source": [
    "BB3=BB3.dropna()"
   ]
  },
  {
   "cell_type": "code",
   "execution_count": 297,
   "metadata": {},
   "outputs": [],
   "source": [
    "BB4=BB3.drop(columns=[\"dólar\",\"Variação Dólar\",\"Dólar anterior\",\"Dólar anterior 2 dias\"])"
   ]
  },
  {
   "cell_type": "code",
   "execution_count": 298,
   "metadata": {},
   "outputs": [],
   "source": [
    "BB4[\"PREÇO FECHAMENTO DO DIA ANTERIOR\"]=BB4[\"PREÇO DO ÚLTIMO NEGÓCIO\"].shift(-1)\n",
    "BB4=BB4.dropna()"
   ]
  },
  {
   "cell_type": "code",
   "execution_count": null,
   "metadata": {},
   "outputs": [],
   "source": [
    "BB4TREINO=BB4[429:]\n",
    "BB4TESTE=BB4[:429]\n",
    "BB4TREINO=BB4TREINO.dropna()\n",
    "BB4dependente=BB4TREINO[\"PREÇO DO ÚLTIMO NEGÓCIO\"]\n",
    "BB4variável = pd.DataFrame(data={\"PREÇO\":BB4TREINO[\"PREÇO FECHAMENTO DO DIA ANTERIOR\"],\"Dólar\":BB4TREINO[\"%Variação Dólar\"]})\n",
    "BB4TESTEvariável = pd.DataFrame(data={\"PREÇO\":BB4TESTE[\"PREÇO FECHAMENTO DO DIA ANTERIOR\"],\"Dólar\":BB4TESTE[\"%Variação Dólar\"]})\n",
    "lr=linear_model.LinearRegression()\n",
    "lr.fit(BB4variável,BB4dependente)\n",
    "PrevBB4TREINO=lr.predict(BB4variável)\n",
    "ERROTREINOBB4=((BB4TREINO[\"PREÇO DO ÚLTIMO NEGÓCIO\"]-PrevBB4TREINO)**2).mean()\n",
    "PrevBB4TESTE=lr.predict(BB4TESTEvariável)\n",
    "ERROTESTEBB4=((BB4TESTE[\"PREÇO DO ÚLTIMO NEGÓCIO\"]-PrevBB4TESTE)**2).mean()\n",
    "print(\"O erro no treino foi {} e no teste foi {}\".format(ERROTREINOBB4, ERROTESTEBB4))\n"
   ]
  },
  {
   "cell_type": "code",
   "execution_count": null,
   "metadata": {},
   "outputs": [],
   "source": [
    "model = sm.OLS(BB4dependente, BB4variável).fit()\n",
    "print_model = model.summary()\n",
    "print(print_model)"
   ]
  },
  {
   "cell_type": "code",
   "execution_count": null,
   "metadata": {},
   "outputs": [],
   "source": [
    "PrevBB4=lr.predict(BB4TESTEvariável)\n",
    "ERROTESTEBB4=((BB4TESTE[\"PREÇO DO ÚLTIMO NEGÓCIO\"]-PrevBB4)**2).mean()\n",
    "ERROTESTEBB4"
   ]
  },
  {
   "cell_type": "code",
   "execution_count": 177,
   "metadata": {},
   "outputs": [],
   "source": [
    "#Importação refeita (base foi alterada no excel para que importação fosse mais rápida)\n",
    "C2014V=pd.read_csv(\"Cotações 2014V.csv\",encoding=\"latin1\",sep=\";\")\n",
    "C2015V=pd.read_csv(\"Cotações 2015V.csv\",encoding=\"latin1\",sep=\";\")\n",
    "C2016V=pd.read_csv(\"Cotações 2016V.csv\",encoding=\"latin1\",sep=\";\")\n",
    "C2017V=pd.read_csv(\"Cotações 2017V.csv\",encoding=\"latin1\",sep=\";\")\n",
    "C2018V=pd.read_csv(\"Cotações 2018V.csv\",encoding=\"latin1\",sep=\";\")\n",
    "C2019V=pd.read_csv(\"Cotações 2019V.csv\",encoding=\"latin1\",sep=\";\")\n",
    "C2020V=pd.read_csv(\"Cotações 2020V.csv\",encoding=\"latin1\",sep=\";\")"
   ]
  },
  {
   "cell_type": "code",
   "execution_count": 180,
   "metadata": {},
   "outputs": [],
   "source": [
    "BASEV=pd.concat([C2014V,C2015V,C2016V,C2017V,C2018V,C2019V,C2020V])"
   ]
  },
  {
   "cell_type": "code",
   "execution_count": 204,
   "metadata": {},
   "outputs": [],
   "source": [
    "FiltroBBV=BASEV[\"CODNEG\"]==\"BBAS3\"\n",
    "FiltroITAÚV=BASEV[\"CODNEG\"]==\"ITUB4\"\n",
    "FiltroBRADESCOV=BASEV[\"CODNEG\"]==\"BBDC4\"\n",
    "FiltroSANTANDERV=BASEV[\"CODNEG\"]==\"SANB11\""
   ]
  },
  {
   "cell_type": "code",
   "execution_count": 210,
   "metadata": {},
   "outputs": [],
   "source": [
    "BBV=BASEV[FiltroBBV]\n",
    "BRADESCOV=BASEV[FiltroBRADESCOV]\n",
    "ITAUV=BASEV[FiltroITAÚV]\n",
    "SANTANDERV=BASEV[FiltroSANTANDERV]"
   ]
  },
  {
   "cell_type": "code",
   "execution_count": null,
   "metadata": {},
   "outputs": [],
   "source": [
    "BRADESCOV[\"DATA DO PREGÃO2\"]=pd.to_datetime(BRADESCOV[\"DATA DO PREGÃO\"],format=\"%d/%m/%Y\")\n",
    "BBV[\"DATA DO PREGÃO2\"]=pd.to_datetime(BBV[\"DATA DO PREGÃO\"],format=\"%d/%m/%Y\")\n",
    "ITAUV[\"DATA DO PREGÃO2\"]=pd.to_datetime(ITAUV[\"DATA DO PREGÃO\"],format=\"%d/%m/%Y\")\n",
    "SANTANDERV[\"DATA DO PREGÃO2\"]=pd.to_datetime(SANTANDERV[\"DATA DO PREGÃO\"],format=\"%d/%m/%Y\")"
   ]
  },
  {
   "cell_type": "code",
   "execution_count": 223,
   "metadata": {},
   "outputs": [],
   "source": [
    "BBV=BBV.drop(columns=[\"DATA DO PREGÃO\"])\n",
    "BRADESCOV=BRADESCOV.drop(columns=[\"DATA DO PREGÃO\"])\n",
    "ITAUV=ITAUV.drop(columns=[\"DATA DO PREGÃO\"])\n",
    "SANTANDERV=SANTANDERV.drop(columns=[\"DATA DO PREGÃO\"])"
   ]
  },
  {
   "cell_type": "code",
   "execution_count": 224,
   "metadata": {},
   "outputs": [],
   "source": [
    "BRADESCOV.rename(columns={'DATA DO PREGÃO2': 'DATA DO PREGÃO'}, inplace = True)\n",
    "BBV.rename(columns={'DATA DO PREGÃO2': 'DATA DO PREGÃO'}, inplace = True)\n",
    "SANTANDERV.rename(columns={'DATA DO PREGÃO2': 'DATA DO PREGÃO'}, inplace = True)\n",
    "ITAUV.rename(columns={'DATA DO PREGÃO2': 'DATA DO PREGÃO'}, inplace = True)"
   ]
  },
  {
   "cell_type": "code",
   "execution_count": 225,
   "metadata": {},
   "outputs": [],
   "source": [
    "BBV.set_index(\"DATA DO PREGÃO\",inplace=True)\n",
    "BRADESCOV.set_index(\"DATA DO PREGÃO\",inplace=True)\n",
    "ITAUV.set_index(\"DATA DO PREGÃO\",inplace=True)\n",
    "SANTANDERV.set_index(\"DATA DO PREGÃO\",inplace=True)"
   ]
  },
  {
   "cell_type": "code",
   "execution_count": null,
   "metadata": {},
   "outputs": [],
   "source": [
    "BBV[\"PREÇO DO ÚLTIMO NEGÓCIO\"]=BBV[\"PREÇO DO ÚLTIMO NEGÓCIO\"]/100\n",
    "\n",
    "BRADESCOV[\"PREÇO DO ÚLTIMO NEGÓCIO\"]=BRADESCOV[\"PREÇO DO ÚLTIMO NEGÓCIO\"]/100\n",
    "\n",
    "SANTANDERV[\"PREÇO DO ÚLTIMO NEGÓCIO\"]=SANTANDERV[\"PREÇO DO ÚLTIMO NEGÓCIO\"]/100\n",
    "\n",
    "ITAUV[\"PREÇO DO ÚLTIMO NEGÓCIO\"]=ITAUV[\"PREÇO DO ÚLTIMO NEGÓCIO\"]/100"
   ]
  },
  {
   "cell_type": "code",
   "execution_count": null,
   "metadata": {},
   "outputs": [],
   "source": [
    "BBV[\"PREÇO FECHAMENTO DO DIA ANTERIOR\"]=BBV[\"PREÇO DO ÚLTIMO NEGÓCIO\"].shift(+1)\n",
    "\n",
    "BRADESCOV[\"PREÇO FECHAMENTO DO DIA ANTERIOR\"]=BRADESCOV[\"PREÇO DO ÚLTIMO NEGÓCIO\"].shift(+1)\n",
    "\n",
    "SANTANDERV[\"PREÇO FECHAMENTO DO DIA ANTERIOR\"]=SANTANDERV[\"PREÇO DO ÚLTIMO NEGÓCIO\"].shift(+1)\n",
    "\n",
    "ITAUV[\"PREÇO FECHAMENTO DO DIA ANTERIOR\"]=ITAUV[\"PREÇO DO ÚLTIMO NEGÓCIO\"].shift(+1)"
   ]
  },
  {
   "cell_type": "code",
   "execution_count": null,
   "metadata": {},
   "outputs": [],
   "source": [
    "BBV[\"QUANTIDADE DE PAPÉIS NEGOCIADOS NO DIA ANTERIOR(EM MILHARES)\"]=BBV[\"Quantidade (em milhares)\"].shift(+1)\n",
    "\n",
    "BRADESCOV[\"QUANTIDADE DE PAPÉIS NEGOCIADOS NO DIA ANTERIOR(EM MILHARES)\"]=BRADESCOV[\"Quantidade (em milhares)\"].shift(+1)\n",
    "\n",
    "SANTANDERV[\"QUANTIDADE DE PAPÉIS NEGOCIADOS NO DIA ANTERIOR(EM MILHARES)\"]=SANTANDERV[\"Quantidade (em milhares)\"].shift(+1)\n",
    "\n",
    "ITAUV[\"QUANTIDADE DE PAPÉIS NEGOCIADOS NO DIA ANTERIOR(EM MILHARES)\"]=ITAUV[\"Quantidade (em milhares)\"].shift(+1)"
   ]
  },
  {
   "cell_type": "code",
   "execution_count": null,
   "metadata": {},
   "outputs": [],
   "source": [
    "BRADESCOV['QUANTIDADE DE PAPÉIS NEGOCIADOS NO DIA ANTERIOR(EM MILHARES)'] = BRADESCOV['QUANTIDADE DE PAPÉIS NEGOCIADOS NO DIA ANTERIOR(EM MILHARES)'].str.replace(',', '.')\n",
    "BBV['QUANTIDADE DE PAPÉIS NEGOCIADOS NO DIA ANTERIOR(EM MILHARES)'] = BBV['QUANTIDADE DE PAPÉIS NEGOCIADOS NO DIA ANTERIOR(EM MILHARES)'].str.replace(',', '.')\n",
    "ITAUV['QUANTIDADE DE PAPÉIS NEGOCIADOS NO DIA ANTERIOR(EM MILHARES)'] = ITAUV['QUANTIDADE DE PAPÉIS NEGOCIADOS NO DIA ANTERIOR(EM MILHARES)'].str.replace(',', '.')\n",
    "SANTANDERV['QUANTIDADE DE PAPÉIS NEGOCIADOS NO DIA ANTERIOR(EM MILHARES)'] = SANTANDERV['QUANTIDADE DE PAPÉIS NEGOCIADOS NO DIA ANTERIOR(EM MILHARES)'].str.replace(',', '.')"
   ]
  },
  {
   "cell_type": "code",
   "execution_count": null,
   "metadata": {},
   "outputs": [],
   "source": [
    "BRADESCOV['QUANTIDADE DE PAPÉIS NEGOCIADOS NO DIA ANTERIOR(EM MILHARES)']=BRADESCOV['QUANTIDADE DE PAPÉIS NEGOCIADOS NO DIA ANTERIOR(EM MILHARES)'].astype(float)\n",
    "ITAUV['QUANTIDADE DE PAPÉIS NEGOCIADOS NO DIA ANTERIOR(EM MILHARES)']=ITAUV['QUANTIDADE DE PAPÉIS NEGOCIADOS NO DIA ANTERIOR(EM MILHARES)'].astype(float)\n",
    "SANTANDERV['QUANTIDADE DE PAPÉIS NEGOCIADOS NO DIA ANTERIOR(EM MILHARES)']=SANTANDERV['QUANTIDADE DE PAPÉIS NEGOCIADOS NO DIA ANTERIOR(EM MILHARES)'].astype(float)\n",
    "BBV['QUANTIDADE DE PAPÉIS NEGOCIADOS NO DIA ANTERIOR(EM MILHARES)']=BBV['QUANTIDADE DE PAPÉIS NEGOCIADOS NO DIA ANTERIOR(EM MILHARES)'].astype(float)"
   ]
  },
  {
   "cell_type": "code",
   "execution_count": null,
   "metadata": {},
   "outputs": [],
   "source": [
    "BRADESCOV=BRADESCOV.dropna()\n",
    "BRADESCOVTREINO=BRADESCOV[0:1300]\n",
    "BRADESCOVTESTE=BRADESCOV[1300:]\n",
    "BRADESCOVdependente=BRADESCOVTREINO[\"PREÇO DO ÚLTIMO NEGÓCIO\"]\n",
    "BRADESCOVvariável = pd.DataFrame(data={\"PREÇO\":BRADESCOVTREINO[\"PREÇO FECHAMENTO DO DIA ANTERIOR\"],\n",
    "                                 \"Volume\":BRADESCOVTREINO[\"QUANTIDADE DE PAPÉIS NEGOCIADOS NO DIA ANTERIOR(EM MILHARES)\"]})\n",
    "BRADESCOVTESTEvariável = pd.DataFrame(data={\"PREÇO\":BRADESCOVTESTE[\"PREÇO FECHAMENTO DO DIA ANTERIOR\"],\n",
    "                                      \"Volume\":BRADESCOVTESTE[\"QUANTIDADE DE PAPÉIS NEGOCIADOS NO DIA ANTERIOR(EM MILHARES)\"]})\n",
    "lr=linear_model.LinearRegression()\n",
    "lr.fit(BRADESCOVvariável,BRADESCOVdependente)\n",
    "PrevBRADESCOVTREINO=lr.predict(BRADESCOVvariável)\n",
    "ERROTREINOBRADESCOV=((BRADESCOVTREINO[\"PREÇO DO ÚLTIMO NEGÓCIO\"]-PrevBRADESCOVTREINO)**2).mean()\n",
    "PrevBRADESCOVTESTE=lr.predict(BRADESCOVTESTEvariável)\n",
    "ERROTESTEBRADESCOV=((BRADESCOVTESTE[\"PREÇO DO ÚLTIMO NEGÓCIO\"]-PrevBRADESCOVTESTE)**2).mean()\n",
    "print(\"O erro no treino foi {} e no teste foi {}\".format(ERROTREINOBRADESCOV, ERROTESTEBRADESCOV))\n",
    "\n"
   ]
  },
  {
   "cell_type": "code",
   "execution_count": null,
   "metadata": {},
   "outputs": [],
   "source": [
    "model = sm.OLS(BRADESCOVdependente, BRADESCOVvariável).fit()\n",
    "print_model = model.summary()\n",
    "print(print_model)"
   ]
  },
  {
   "cell_type": "code",
   "execution_count": null,
   "metadata": {},
   "outputs": [],
   "source": [
    "BBV=BBV.dropna()\n",
    "BBVTREINO=BBV[0:1300]\n",
    "BBVTESTE=BBV[1300:]\n",
    "BBVdependente=BBVTREINO[\"PREÇO DO ÚLTIMO NEGÓCIO\"]\n",
    "BBVvariável = pd.DataFrame(data={\"PREÇO\":BBVTREINO[\"PREÇO FECHAMENTO DO DIA ANTERIOR\"],\n",
    "                                 \"Volume\":BBVTREINO[\"QUANTIDADE DE PAPÉIS NEGOCIADOS NO DIA ANTERIOR(EM MILHARES)\"]})\n",
    "BBVTESTEvariável = pd.DataFrame(data={\"PREÇO\":BBVTESTE[\"PREÇO FECHAMENTO DO DIA ANTERIOR\"],\n",
    "                                      \"Volume\":BBVTESTE[\"QUANTIDADE DE PAPÉIS NEGOCIADOS NO DIA ANTERIOR(EM MILHARES)\"]})\n",
    "lr=linear_model.LinearRegression()\n",
    "lr.fit(BBVvariável,BBVdependente)\n",
    "PrevBBVTREINO=lr.predict(BBVvariável)\n",
    "ERROTREINOBBV=((BBVTREINO[\"PREÇO DO ÚLTIMO NEGÓCIO\"]-PrevBBVTREINO)**2).mean()\n",
    "PrevBBVTESTE=lr.predict(BBVTESTEvariável)\n",
    "ERROTESTEBBV=((BBVTESTE[\"PREÇO DO ÚLTIMO NEGÓCIO\"]-PrevBBVTESTE)**2).mean()\n",
    "print(\"O erro no treino foi {} e no teste foi {}\".format(ERROTREINOBBV, ERROTESTEBBV))"
   ]
  },
  {
   "cell_type": "code",
   "execution_count": null,
   "metadata": {},
   "outputs": [],
   "source": [
    "model = sm.OLS(BBVdependente, BBVvariável).fit()\n",
    "print_model = model.summary()\n",
    "print(print_model)"
   ]
  },
  {
   "cell_type": "code",
   "execution_count": null,
   "metadata": {},
   "outputs": [],
   "source": [
    "ITAUV=ITAUV.dropna()\n",
    "ITAUVTREINO=ITAUV[0:1300]\n",
    "ITAUVTESTE=ITAUV[1300:]\n",
    "ITAUVdependente=ITAUVTREINO[\"PREÇO DO ÚLTIMO NEGÓCIO\"]\n",
    "ITAUVvariável = pd.DataFrame(data={\"PREÇO\":ITAUVTREINO[\"PREÇO FECHAMENTO DO DIA ANTERIOR\"],\n",
    "                                 \"Volume\":ITAUVTREINO[\"QUANTIDADE DE PAPÉIS NEGOCIADOS NO DIA ANTERIOR(EM MILHARES)\"]})\n",
    "ITAUVTESTEvariável = pd.DataFrame(data={\"PREÇO\":ITAUVTESTE[\"PREÇO FECHAMENTO DO DIA ANTERIOR\"],\n",
    "                                      \"Volume\":ITAUVTESTE[\"QUANTIDADE DE PAPÉIS NEGOCIADOS NO DIA ANTERIOR(EM MILHARES)\"]})\n",
    "lr=linear_model.LinearRegression()\n",
    "lr.fit(ITAUVvariável,ITAUVdependente)\n",
    "PrevITAUVTREINO=lr.predict(ITAUVvariável)\n",
    "ERROTREINOITAUV=((ITAUVTREINO[\"PREÇO DO ÚLTIMO NEGÓCIO\"]-PrevITAUVTREINO)**2).mean()\n",
    "PrevITAUVTESTE=lr.predict(ITAUVTESTEvariável)\n",
    "ERROTESTEITAUV=((ITAUVTESTE[\"PREÇO DO ÚLTIMO NEGÓCIO\"]-PrevITAUVTESTE)**2).mean()\n",
    "print(\"O erro no treino foi {} e no teste foi {}\".format(ERROTREINOITAUV, ERROTESTEITAUV))\n"
   ]
  },
  {
   "cell_type": "code",
   "execution_count": null,
   "metadata": {},
   "outputs": [],
   "source": [
    "ITAUV['QUANTIDADE DE PAPÉIS NEGOCIADOS NO DIA ANTERIOR(EM MILHARES)2']=ITAUV['QUANTIDADE DE PAPÉIS NEGOCIADOS NO DIA ANTERIOR(EM MILHARES)'].astype(float)\n",
    "SANTANDERV['QUANTIDADE DE PAPÉIS NEGOCIADOS NO DIA ANTERIOR(EM MILHARES)2']=SANTANDERV['QUANTIDADE DE PAPÉIS NEGOCIADOS NO DIA ANTERIOR(EM MILHARES)'].astype(float)\n",
    "ITAUV=ITAUV.drop(columns=[\"QUANTIDADE DE PAPÉIS NEGOCIADOS NO DIA ANTERIOR(EM MILHARES)\"])\n",
    "SANTANDERV=SANTANDERV.drop(columns=[\"QUANTIDADE DE PAPÉIS NEGOCIADOS NO DIA ANTERIOR(EM MILHARES)\"])\n",
    "SANTANDERV.rename(columns={'QUANTIDADE DE PAPÉIS NEGOCIADOS NO DIA ANTERIOR(EM MILHARES)2': 'QUANTIDADE DE PAPÉIS NEGOCIADOS NO DIA ANTERIOR(EM MILHARES)'}, inplace = True)\n",
    "ITAUV.rename(columns={'QUANTIDADE DE PAPÉIS NEGOCIADOS NO DIA ANTERIOR(EM MILHARES)2': 'QUANTIDADE DE PAPÉIS NEGOCIADOS NO DIA ANTERIOR(EM MILHARES)'}, inplace = True)"
   ]
  },
  {
   "cell_type": "code",
   "execution_count": null,
   "metadata": {},
   "outputs": [],
   "source": [
    "model = sm.OLS(ITAUVdependente, ITAUVvariável).fit()\n",
    "print_model = model.summary()\n",
    "print(print_model)"
   ]
  },
  {
   "cell_type": "code",
   "execution_count": null,
   "metadata": {},
   "outputs": [],
   "source": [
    "SANTANDERV=SANTANDERV.dropna()\n",
    "SANTANDERVTREINO=SANTANDERV[0:1300]\n",
    "SANTANDERVTESTE=SANTANDERV[1300:]\n",
    "SANTANDERVdependente=SANTANDERVTREINO[\"PREÇO DO ÚLTIMO NEGÓCIO\"]\n",
    "SANTANDERVvariável = pd.DataFrame(data={\"PREÇO\":SANTANDERVTREINO[\"PREÇO FECHAMENTO DO DIA ANTERIOR\"],\n",
    "                                 \"Volume\":SANTANDERVTREINO\n",
    "                                        [\"QUANTIDADE DE PAPÉIS NEGOCIADOS NO DIA ANTERIOR(EM MILHARES)\"]})\n",
    "SANTANDERVTESTEvariável = pd.DataFrame(data={\"PREÇO\":SANTANDERVTESTE[\"PREÇO FECHAMENTO DO DIA ANTERIOR\"],\n",
    "                                      \"Volume\":SANTANDERVTESTE\n",
    "                                             [\"QUANTIDADE DE PAPÉIS NEGOCIADOS NO DIA ANTERIOR(EM MILHARES)\"]})\n",
    "lr=linear_model.LinearRegression()\n",
    "lr.fit(SANTANDERVvariável,SANTANDERVdependente)\n",
    "PrevSANTANDERVTREINO=lr.predict(SANTANDERVvariável)\n",
    "ERROTREINOSANTANDERV=((SANTANDERVTREINO[\"PREÇO DO ÚLTIMO NEGÓCIO\"]-PrevSANTANDERVTREINO)**2).mean()\n",
    "PrevSANTANDERVTESTE=lr.predict(SANTANDERVTESTEvariável)\n",
    "ERROTESTESANTANDERV=((SANTANDERVTESTE[\"PREÇO DO ÚLTIMO NEGÓCIO\"]-PrevSANTANDERVTESTE)**2).mean()\n",
    "print(\"O erro no treino foi {} e no teste foi {}\".format(ERROTREINOSANTANDERV, ERROTESTESANTANDERV))\n"
   ]
  },
  {
   "cell_type": "code",
   "execution_count": null,
   "metadata": {},
   "outputs": [],
   "source": [
    "model = sm.OLS(SANTANDERVdependente, SANTANDERVvariável).fit()\n",
    "print_model = model.summary()\n",
    "print(print_model)"
   ]
  },
  {
   "cell_type": "code",
   "execution_count": null,
   "metadata": {},
   "outputs": [],
   "source": [
    "predictBRADESCO[181:304].plot(color='red')\n",
    "BRADESCOTESTE[\"PREÇO DO ÚLTIMO NEGÓCIO\"][181:304].plot(color='blue')\n",
    "plt.legend(['previsto','real'], loc=9)"
   ]
  },
  {
   "cell_type": "code",
   "execution_count": null,
   "metadata": {},
   "outputs": [],
   "source": [
    "predictBB[181:304].plot(color='red')\n",
    "BBTESTE[\"PREÇO DO ÚLTIMO NEGÓCIO\"][181:304].plot(color='blue')\n",
    "plt.legend(['previsto','real'], loc=9)"
   ]
  },
  {
   "cell_type": "code",
   "execution_count": null,
   "metadata": {},
   "outputs": [],
   "source": [
    "predictITAU[181:304].plot(color='red')\n",
    "ITAUTESTE[\"PREÇO DO ÚLTIMO NEGÓCIO\"][181:304].plot(color='blue')\n",
    "plt.legend(['previsto','real'], loc=9)"
   ]
  },
  {
   "cell_type": "code",
   "execution_count": null,
   "metadata": {},
   "outputs": [],
   "source": [
    "predictSANTANDER[181:304].plot(color='red')\n",
    "SANTANDERTESTE[\"PREÇO DO ÚLTIMO NEGÓCIO\"][181:304].plot(color='blue')\n",
    "plt.legend(['previsto','real'], loc=9)"
   ]
  },
  {
   "cell_type": "code",
   "execution_count": 381,
   "metadata": {},
   "outputs": [],
   "source": [
    "RESÍDUOSBRADESCO=predictBRADESCO-BRADESCOTESTE[\"PREÇO DO ÚLTIMO NEGÓCIO\"]"
   ]
  },
  {
   "cell_type": "code",
   "execution_count": null,
   "metadata": {},
   "outputs": [],
   "source": [
    "RESÍDUOSBRADESCO.describe()"
   ]
  },
  {
   "cell_type": "code",
   "execution_count": null,
   "metadata": {},
   "outputs": [],
   "source": [
    "RESÍDUOSBRADESCO.plot(label=\"erro\")\n",
    "plt.legend(loc=\"upper left\")"
   ]
  },
  {
   "cell_type": "code",
   "execution_count": null,
   "metadata": {},
   "outputs": [],
   "source": [
    "RESÍDUOSBRADESCO.plot(kind=\"kde\")\n"
   ]
  },
  {
   "cell_type": "code",
   "execution_count": null,
   "metadata": {},
   "outputs": [],
   "source": [
    "RESÍDUOSBRADESCO.hist()"
   ]
  },
  {
   "cell_type": "code",
   "execution_count": null,
   "metadata": {},
   "outputs": [],
   "source": [
    "import seaborn as sns\n",
    "\n",
    "\n",
    "ax = sns.boxplot(x=RESÍDUOSBRADESCO)"
   ]
  },
  {
   "cell_type": "code",
   "execution_count": null,
   "metadata": {},
   "outputs": [],
   "source": [
    "RESÍDUOSBB=predictBB-BBTESTE[\"PREÇO DO ÚLTIMO NEGÓCIO\"]"
   ]
  },
  {
   "cell_type": "code",
   "execution_count": null,
   "metadata": {},
   "outputs": [],
   "source": [
    "RESÍDUOSBB.describe()"
   ]
  },
  {
   "cell_type": "code",
   "execution_count": null,
   "metadata": {},
   "outputs": [],
   "source": [
    "RESÍDUOSBB.plot(label=\"erro\")\n",
    "plt.legend(loc=\"upper left\")"
   ]
  },
  {
   "cell_type": "code",
   "execution_count": null,
   "metadata": {},
   "outputs": [],
   "source": [
    "RESÍDUOSBB.plot(kind=\"kde\")"
   ]
  },
  {
   "cell_type": "code",
   "execution_count": null,
   "metadata": {},
   "outputs": [],
   "source": [
    "RESÍDUOSBB.hist()"
   ]
  },
  {
   "cell_type": "code",
   "execution_count": null,
   "metadata": {},
   "outputs": [],
   "source": [
    "ax = sns.boxplot(x=RESÍDUOSBB)\n"
   ]
  },
  {
   "cell_type": "code",
   "execution_count": null,
   "metadata": {},
   "outputs": [],
   "source": [
    "RESÍDUOSITAU=predictITAU-ITAUTESTE[\"PREÇO DO ÚLTIMO NEGÓCIO\"]"
   ]
  },
  {
   "cell_type": "code",
   "execution_count": null,
   "metadata": {},
   "outputs": [],
   "source": [
    "RESÍDUOSITAU.describe()"
   ]
  },
  {
   "cell_type": "code",
   "execution_count": null,
   "metadata": {},
   "outputs": [],
   "source": [
    "RESÍDUOSITAU.plot(label=\"erro\")\n",
    "plt.legend(loc=\"upper left\")"
   ]
  },
  {
   "cell_type": "code",
   "execution_count": null,
   "metadata": {},
   "outputs": [],
   "source": [
    "RESÍDUOSITAU.plot(kind=\"kde\")"
   ]
  },
  {
   "cell_type": "code",
   "execution_count": null,
   "metadata": {},
   "outputs": [],
   "source": [
    "RESÍDUOSITAU.hist()"
   ]
  },
  {
   "cell_type": "code",
   "execution_count": null,
   "metadata": {},
   "outputs": [],
   "source": [
    "ax = sns.boxplot(x=RESÍDUOSITAU)\n"
   ]
  },
  {
   "cell_type": "code",
   "execution_count": null,
   "metadata": {},
   "outputs": [],
   "source": [
    "RESÍDUOSSANTANDER=predictSANTANDER-SANTANDERTESTE[\"PREÇO DO ÚLTIMO NEGÓCIO\"]"
   ]
  },
  {
   "cell_type": "code",
   "execution_count": null,
   "metadata": {},
   "outputs": [],
   "source": [
    "RESÍDUOSSANTANDER.describe()"
   ]
  },
  {
   "cell_type": "code",
   "execution_count": null,
   "metadata": {},
   "outputs": [],
   "source": [
    "RESÍDUOSSANTANDER.plot(label=\"erro\")\n",
    "plt.legend(loc=\"upper left\")"
   ]
  },
  {
   "cell_type": "code",
   "execution_count": null,
   "metadata": {},
   "outputs": [],
   "source": [
    "RESÍDUOSSANTANDER.plot(kind=\"kde\")"
   ]
  },
  {
   "cell_type": "code",
   "execution_count": null,
   "metadata": {},
   "outputs": [],
   "source": [
    "RESÍDUOSSANTANDER.hist()"
   ]
  },
  {
   "cell_type": "code",
   "execution_count": null,
   "metadata": {},
   "outputs": [],
   "source": [
    "ax = sns.boxplot(x=RESÍDUOSSANTANDER)"
   ]
  },
  {
   "cell_type": "code",
   "execution_count": 139,
   "metadata": {},
   "outputs": [],
   "source": [
    "GRÁFICODEERROS = pd.DataFrame(data={\"BRADESCO\":RESÍDUOSBRADESCO,\"BB\":RESÍDUOSBB,\"ITAÚ\":RESÍDUOSITAU,\"SANTANDER\":RESÍDUOSSANTANDER})"
   ]
  },
  {
   "cell_type": "code",
   "execution_count": null,
   "metadata": {},
   "outputs": [],
   "source": [
    "plt.figure(figsize=(15,6))\n",
    "plt.plot(GRÁFICODEERROS[\"BB\"],color='yellow')\n",
    "plt.plot(GRÁFICODEERROS[\"BRADESCO\"],color='red')\n",
    "plt.plot(GRÁFICODEERROS[\"ITAÚ\"],color='blue')\n",
    "plt.plot(GRÁFICODEERROS[\"SANTANDER\"],color='black')\n",
    "plt.legend(['BB', 'BRADESCO', 'ITAU',\"SANTANDER\"], loc=9)"
   ]
  },
  {
   "cell_type": "code",
   "execution_count": null,
   "metadata": {},
   "outputs": [],
   "source": [
    "plt.figure(figsize=(15,6))\n",
    "plt.plot(GRÁFICODEERROS[222:275][\"BB\"],color='yellow')\n",
    "plt.plot(GRÁFICODEERROS[222:275][\"BRADESCO\"],color='red')\n",
    "plt.plot(GRÁFICODEERROS[222:275][\"ITAÚ\"],color='blue')\n",
    "plt.plot(GRÁFICODEERROS[222:275][\"SANTANDER\"],color='black')\n",
    "plt.legend(['BB', 'BRADESCO', 'ITAU',\"SANTANDER\"], loc=9)"
   ]
  },
  {
   "cell_type": "code",
   "execution_count": null,
   "metadata": {},
   "outputs": [],
   "source": [
    "plt.figure(figsize=(15,6))\n",
    "plt.plot(BB[\"PREÇO DO ÚLTIMO NEGÓCIO\"],color='yellow')\n",
    "plt.legend(['BB'], loc=9)"
   ]
  },
  {
   "cell_type": "code",
   "execution_count": null,
   "metadata": {},
   "outputs": [],
   "source": [
    "BB[\"PREÇO DO ÚLTIMO NEGÓCIO\"].describe()"
   ]
  },
  {
   "cell_type": "code",
   "execution_count": null,
   "metadata": {},
   "outputs": [],
   "source": [
    "BB[\"PREÇO DO ÚLTIMO NEGÓCIO\"].hist()"
   ]
  },
  {
   "cell_type": "code",
   "execution_count": null,
   "metadata": {},
   "outputs": [],
   "source": [
    "BB.loc[(BB[\"PREÇO DO ÚLTIMO NEGÓCIO\"])== 12.700000]\n"
   ]
  },
  {
   "cell_type": "code",
   "execution_count": null,
   "metadata": {},
   "outputs": [],
   "source": [
    "BB.loc[(BB[\"PREÇO DO ÚLTIMO NEGÓCIO\"])== 55.180000]"
   ]
  },
  {
   "cell_type": "code",
   "execution_count": null,
   "metadata": {},
   "outputs": [],
   "source": [
    "plt.figure(figsize=(15,6))\n",
    "plt.plot(BRADESCO[\"PREÇO DO ÚLTIMO NEGÓCIO\"],color='red')\n",
    "plt.legend(['BRADESCO'], loc=9)"
   ]
  },
  {
   "cell_type": "code",
   "execution_count": null,
   "metadata": {},
   "outputs": [],
   "source": [
    "BRADESCO[\"PREÇO DO ÚLTIMO NEGÓCIO\"].describe()"
   ]
  },
  {
   "cell_type": "code",
   "execution_count": null,
   "metadata": {},
   "outputs": [],
   "source": [
    "BRADESCO.loc[(BRADESCO[\"PREÇO DO ÚLTIMO NEGÓCIO\"])== 46.30]"
   ]
  },
  {
   "cell_type": "code",
   "execution_count": null,
   "metadata": {},
   "outputs": [],
   "source": [
    "BRADESCO.loc[(BRADESCO[\"PREÇO DO ÚLTIMO NEGÓCIO\"])== 16.95]"
   ]
  },
  {
   "cell_type": "code",
   "execution_count": null,
   "metadata": {},
   "outputs": [],
   "source": [
    "BRADESCO[\"PREÇO DO ÚLTIMO NEGÓCIO\"].hist()"
   ]
  },
  {
   "cell_type": "code",
   "execution_count": null,
   "metadata": {},
   "outputs": [],
   "source": [
    "plt.figure(figsize=(15,6))\n",
    "plt.plot(ITAU[\"PREÇO DO ÚLTIMO NEGÓCIO\"],color='blue')\n",
    "plt.legend(['ITAU'], loc=9)"
   ]
  },
  {
   "cell_type": "code",
   "execution_count": null,
   "metadata": {},
   "outputs": [],
   "source": [
    "ITAU[\"PREÇO DO ÚLTIMO NEGÓCIO\"].describe()"
   ]
  },
  {
   "cell_type": "code",
   "execution_count": null,
   "metadata": {},
   "outputs": [],
   "source": [
    "ITAU[\"PREÇO DO ÚLTIMO NEGÓCIO\"].argmax()"
   ]
  },
  {
   "cell_type": "code",
   "execution_count": null,
   "metadata": {},
   "outputs": [],
   "source": [
    "ITAU[\"PREÇO DO ÚLTIMO NEGÓCIO\"].argmin()"
   ]
  },
  {
   "cell_type": "code",
   "execution_count": null,
   "metadata": {},
   "outputs": [],
   "source": [
    "ITAU[\"PREÇO DO ÚLTIMO NEGÓCIO\"].hist()"
   ]
  },
  {
   "cell_type": "code",
   "execution_count": null,
   "metadata": {},
   "outputs": [],
   "source": [
    "plt.figure(figsize=(15,6))\n",
    "plt.plot(SANTANDER[\"PREÇO DO ÚLTIMO NEGÓCIO\"],color='black')\n",
    "plt.legend(['SANTANDER'], loc=9)"
   ]
  },
  {
   "cell_type": "code",
   "execution_count": null,
   "metadata": {},
   "outputs": [],
   "source": [
    "SANTANDER[\"PREÇO DO ÚLTIMO NEGÓCIO\"].describe()"
   ]
  },
  {
   "cell_type": "code",
   "execution_count": 667,
   "metadata": {},
   "outputs": [],
   "source": [
    "COMPARATIVO=pd.DataFrame(data={\"BANCO\":[\"SANTANDER\",\"BB\",\"ITAÚ\",\"BRADESCO\"],\"Preço 21/02/2020\":[SANTANDER[\"PREÇO DO ÚLTIMO NEGÓCIO\"][1518],BB[\"PREÇO DO ÚLTIMO NEGÓCIO\"][1518],ITAU[\"PREÇO DO ÚLTIMO NEGÓCIO\"][1518],BRADESCO[\"PREÇO DO ÚLTIMO NEGÓCIO\"][1518]],\"Preço 30/12/2020\":[SANTANDER[\"PREÇO DO ÚLTIMO NEGÓCIO\"][1730],BB[\"PREÇO DO ÚLTIMO NEGÓCIO\"][1730],ITAU[\"PREÇO DO ÚLTIMO NEGÓCIO\"][1730],BRADESCO[\"PREÇO DO ÚLTIMO NEGÓCIO\"][1730]] })"
   ]
  },
  {
   "cell_type": "code",
   "execution_count": null,
   "metadata": {},
   "outputs": [],
   "source": [
    "COMPARATIVO[\"PERCENTUAL\"]=100*COMPARATIVO[\"Preço 30/12/2020\"]/COMPARATIVO[\"Preço 21/02/2020\"]\n",
    "COMPARATIVO"
   ]
  },
  {
   "cell_type": "code",
   "execution_count": null,
   "metadata": {},
   "outputs": [],
   "source": [
    "SANTANDER[\"PREÇO DO ÚLTIMO NEGÓCIO\"].describe()"
   ]
  },
  {
   "cell_type": "code",
   "execution_count": null,
   "metadata": {},
   "outputs": [],
   "source": [
    "SANTANDER[\"PREÇO DO ÚLTIMO NEGÓCIO\"].hist()"
   ]
  },
  {
   "cell_type": "code",
   "execution_count": null,
   "metadata": {},
   "outputs": [],
   "source": [
    "SANTANDER[\"PREÇO DO ÚLTIMO NEGÓCIO\"].argmax()"
   ]
  },
  {
   "cell_type": "code",
   "execution_count": null,
   "metadata": {},
   "outputs": [],
   "source": [
    "SANTANDER[\"PREÇO DO ÚLTIMO NEGÓCIO\"].argmin()"
   ]
  },
  {
   "cell_type": "code",
   "execution_count": 685,
   "metadata": {},
   "outputs": [],
   "source": [
    "Tabeladecorrelação=pd.DataFrame(data={\"Santander\":SANTANDER[\"PREÇO DO ÚLTIMO NEGÓCIO\"],\"BB\":BB[\"PREÇO DO ÚLTIMO NEGÓCIO\"],\"ITAÚ\":ITAU[\"PREÇO DO ÚLTIMO NEGÓCIO\"],\"BRADESCO\":BRADESCO[\"PREÇO DO ÚLTIMO NEGÓCIO\"]})\n",
    "Tabeladecorrelação.corr()"
   ]
  }
 ],
 "metadata": {
  "kernelspec": {
   "display_name": "Python 3",
   "language": "python",
   "name": "python3"
  },
  "language_info": {
   "codemirror_mode": {
    "name": "ipython",
    "version": 3
   },
   "file_extension": ".py",
   "mimetype": "text/x-python",
   "name": "python",
   "nbconvert_exporter": "python",
   "pygments_lexer": "ipython3",
   "version": "3.7.4"
  }
 },
 "nbformat": 4,
 "nbformat_minor": 2
}
